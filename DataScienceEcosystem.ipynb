{
 "cells": [
  {
   "cell_type": "markdown",
   "id": "9234f241-05af-480e-b378-3083256f6fe6",
   "metadata": {},
   "source": [
    "# Data Science Tools and Ecosystem"
   ]
  },
  {
   "cell_type": "markdown",
   "id": "001b9f04-4009-48bd-86d7-11ee4ffe3eb0",
   "metadata": {},
   "source": [
    "In this notebook, Data Science Tools and Ecosystems are summarized to demonstrate an ability to use Jupyter Notebooks."
   ]
  },
  {
   "cell_type": "markdown",
   "id": "c9542da8-1ddf-42ee-aeca-ce0ed01f27ed",
   "metadata": {},
   "source": [
    "Some of the popular languages that data scientists use are:  \n",
    "1. Python  \n",
    "3. R  \n",
    "3. Scala  "
   ]
  },
  {
   "cell_type": "markdown",
   "id": "6dbff0d9-b9e7-461d-a3f7-d151ddf49e25",
   "metadata": {},
   "source": [
    "Some of the commonly used libraries used by data scientists are:\n",
    "1. Pandas\n",
    "1. NumPy\n",
    "1. TensorFlow"
   ]
  },
  {
   "cell_type": "markdown",
   "id": "90b8c4b2-5f6f-4eff-b99a-0f1790555b67",
   "metadata": {},
   "source": [
    "Data Science Tools|\n",
    "---|\n",
    "Jupyter Notebooks|\n",
    "Apache Zeppelin|\n",
    "RStudio|\n"
   ]
  },
  {
   "cell_type": "markdown",
   "id": "a36dcfa2-22ae-4469-a1d6-db37e0f43293",
   "metadata": {},
   "source": [
    "### Below are a few examples of evaluation arithmetic expressions in python"
   ]
  },
  {
   "cell_type": "markdown",
   "id": "c16cc95f-5b58-438d-a494-d1ec73e0bfad",
   "metadata": {},
   "source": [
    "This is a simple arithmetic expression to multiply then add integers\n"
   ]
  },
  {
   "cell_type": "code",
   "execution_count": 3,
   "id": "79140753-c3e3-4c8d-8da7-6f1efb72f955",
   "metadata": {},
   "outputs": [
    {
     "data": {
      "text/plain": [
       "17"
      ]
     },
     "execution_count": 3,
     "metadata": {},
     "output_type": "execute_result"
    }
   ],
   "source": [
    "3*4+5\n"
   ]
  },
  {
   "cell_type": "markdown",
   "id": "f76a77d7-c58c-4d3a-a06a-cecc6f4693a2",
   "metadata": {},
   "source": [
    "This will convert 200 minutes to hours by dividing by 60"
   ]
  },
  {
   "cell_type": "code",
   "execution_count": 4,
   "id": "2517de0d-d756-4309-b017-35265dd7e288",
   "metadata": {},
   "outputs": [
    {
     "data": {
      "text/plain": [
       "3.3333333333333335"
      ]
     },
     "execution_count": 4,
     "metadata": {},
     "output_type": "execute_result"
    }
   ],
   "source": [
    "200/60"
   ]
  },
  {
   "cell_type": "markdown",
   "id": "152fc875-927c-4aed-be3d-da5213887baf",
   "metadata": {},
   "source": [
    "**Objective:**\n",
    "* Name programming languages\n",
    "* Learn about open source tools\n",
    "* Begin working with Python/Jypter Notebooks"
   ]
  },
  {
   "cell_type": "markdown",
   "id": "17cdf22b-1c65-4cb5-b81c-acb5a9b69dac",
   "metadata": {},
   "source": [
    "## Author  \n",
    "Stephen Dodge"
   ]
  },
  {
   "cell_type": "code",
   "execution_count": null,
   "id": "2e8155a9-7ef6-49b2-bdc5-2eecc45e56f3",
   "metadata": {},
   "outputs": [],
   "source": []
  }
 ],
 "metadata": {
  "kernelspec": {
   "display_name": "Python",
   "language": "python",
   "name": "conda-env-python-py"
  },
  "language_info": {
   "codemirror_mode": {
    "name": "ipython",
    "version": 3
   },
   "file_extension": ".py",
   "mimetype": "text/x-python",
   "name": "python",
   "nbconvert_exporter": "python",
   "pygments_lexer": "ipython3",
   "version": "3.7.12"
  }
 },
 "nbformat": 4,
 "nbformat_minor": 5
}
